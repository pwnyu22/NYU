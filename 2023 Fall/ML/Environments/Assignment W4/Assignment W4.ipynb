{
 "cells": [
  {
   "cell_type": "markdown",
   "id": "8f57e230-13c1-49c5-9ae7-5241eaefc28a",
   "metadata": {
    "jp-MarkdownHeadingCollapsed": true
   },
   "source": [
    "# Preparation Functions"
   ]
  },
  {
   "cell_type": "markdown",
   "id": "60ee658d-2ebb-4606-bc5f-6389b1dc7015",
   "metadata": {
    "jp-MarkdownHeadingCollapsed": true
   },
   "source": [
    "### Imports"
   ]
  },
  {
   "cell_type": "code",
   "execution_count": 9,
   "id": "42716242-706c-481c-8c31-aac4456087a8",
   "metadata": {},
   "outputs": [],
   "source": [
    "from sklearn.datasets import fetch_kddcup99\n",
    "from sklearn.linear_model import LogisticRegression\n",
    "from sklearn.metrics import accuracy_score\n",
    "from sklearn.model_selection import train_test_split\n",
    "from sklearn.preprocessing import LabelEncoder\n",
    "from sklearn.preprocessing import OneHotEncoder\n",
    "from sklearn.preprocessing import StandardScaler\n",
    "from sklearn.pipeline import make_pipeline\n",
    "from sklearn.svm import SVC\n",
    "from sklearn.linear_model import SGDClassifier\n",
    "\n",
    "from imblearn.under_sampling import RandomUnderSampler\n",
    "\n",
    "import matplotlib.pyplot as plt\n",
    "import numpy as np\n",
    "import pandas as pd"
   ]
  },
  {
   "cell_type": "markdown",
   "id": "5a09f6bd-80ef-4d46-8b20-4e0b88a158b4",
   "metadata": {},
   "source": [
    "### Data Cleaning"
   ]
  },
  {
   "cell_type": "code",
   "execution_count": 20,
   "id": "3a787892-8d7f-4e54-bb85-2852eba3a611",
   "metadata": {},
   "outputs": [],
   "source": [
    "def cleaning_data():\n",
    "    # Get Data\n",
    "    X, y= fetch_kddcup99(percent10=True, random_state=42, as_frame=True, return_X_y=True)\n",
    "    \n",
    "    # Remove \"normal\" from the dataset\n",
    "    X = X[y != b'normal.']\n",
    "    y = y[y != b'normal.']\n",
    "\n",
    "    #Encodd the following fields\n",
    "    le = LabelEncoder()\n",
    "    #X = le.fit_transform(X)\n",
    "    \n",
    "    X[\"protocol_type\"] = le.fit_transform(X[\"protocol_type\"])\n",
    "    X[\"service\"] = le.fit_transform(X[\"service\"])\n",
    "    X[\"flag\"] = le.fit_transform(X[\"flag\"])\n",
    "    X[\"duration\"] = le.fit_transform(X[\"duration\"])\n",
    "    X[\"src_bytes\"] = le.fit_transform(X[\"src_bytes\"])\n",
    "    X[\"dst_bytes\"] = le.fit_transform(X[\"dst_bytes\"])\n",
    "    X[\"land\"] = le.fit_transform(X[\"land\"])\n",
    "    X[\"wrong_fragment\"] = le.fit_transform(X[\"wrong_fragment\"])\n",
    "    X[\"urgent\"] = le.fit_transform(X[\"urgent\"])\n",
    "    X[\"hot\"] = le.fit_transform(X[\"hot\"])\n",
    "    X[\"num_failed_logins\"] = le.fit_transform(X[\"num_failed_logins\"])\n",
    "    X[\"logged_in\"] = le.fit_transform(X[\"logged_in\"])\n",
    "    X[\"num_compromised\"] = le.fit_transform(X[\"num_compromised\"])\n",
    "    X[\"root_shell\"] = le.fit_transform(X[\"root_shell\"])\n",
    "    X[\"su_attempted\"] = le.fit_transform(X[\"su_attempted\"])\n",
    "    X[\"num_root\"] = le.fit_transform(X[\"num_root\"])\n",
    "    X[\"num_file_creations\"] = le.fit_transform(X[\"num_file_creations\"])\n",
    "    X[\"num_shells\"] = le.fit_transform(X[\"num_shells\"])\n",
    "    X[\"num_access_files\"] = le.fit_transform(X[\"num_access_files\"])\n",
    "    X[\"num_outbound_cmds\"] = le.fit_transform(X[\"num_outbound_cmds\"])\n",
    "    X[\"is_host_login\"] = le.fit_transform(X[\"is_host_login\"])\n",
    "    X[\"is_guest_login\"] = le.fit_transform(X[\"is_guest_login\"])\n",
    "    X[\"count\"] = le.fit_transform(X[\"count\"])\n",
    "    X[\"srv_count\"] = le.fit_transform(X[\"srv_count\"])\n",
    "    X[\"serror_rate\"] = le.fit_transform(X[\"serror_rate\"])\n",
    "    X[\"srv_serror_rate\"] = le.fit_transform(X[\"srv_serror_rate\"])\n",
    "    X[\"rerror_rate\"] = le.fit_transform(X[\"rerror_rate\"])\n",
    "    X[\"srv_rerror_rate\"] = le.fit_transform(X[\"srv_rerror_rate\"])\n",
    "    X[\"same_srv_rate\"] = le.fit_transform(X[\"same_srv_rate\"])\n",
    "    X[\"diff_srv_rate\"] = le.fit_transform(X[\"diff_srv_rate\"])\n",
    "    X[\"srv_diff_host_rate\"] = le.fit_transform(X[\"srv_diff_host_rate\"])\n",
    "    X[\"dst_host_count\"] = le.fit_transform(X[\"dst_host_count\"])\n",
    "    X[\"dst_host_srv_count\"] = le.fit_transform(X[\"dst_host_srv_count\"])\n",
    "    X[\"dst_host_same_srv_rate\"] = le.fit_transform(X[\"dst_host_same_srv_rate\"])\n",
    "    X[\"dst_host_diff_srv_rate\"] = le.fit_transform(X[\"dst_host_diff_srv_rate\"])\n",
    "    X[\"dst_host_same_src_port_rate\"] = le.fit_transform(X[\"dst_host_same_src_port_rate\"])\n",
    "    X[\"dst_host_srv_diff_host_rate\"] = le.fit_transform(X[\"dst_host_srv_diff_host_rate\"])\n",
    "    X[\"dst_host_serror_rate\"] = le.fit_transform(X[\"dst_host_serror_rate\"])\n",
    "    X[\"dst_host_srv_serror_rate\"] = le.fit_transform(X[\"dst_host_srv_serror_rate\"])\n",
    "    X[\"dst_host_rerror_rate\"] = le.fit_transform(X[\"dst_host_rerror_rate\"])\n",
    "    X[\"dst_host_srv_rerror_rate\"] = le.fit_transform(X[\"dst_host_srv_rerror_rate\"])\n",
    "\n",
    "    # print(np.unique(y))\n",
    "    y = np.where(((y== b'smurf.') | (y==b'teardrop.') | (y== b'back.') | (y== b'land.') | (y== b'neptune.') | (y== b'pod.')), 1, 0)\n",
    "\n",
    "    return X,y\n",
    "    "
   ]
  },
  {
   "cell_type": "markdown",
   "id": "239cb909-92d6-4300-8f1f-f2662f94a36a",
   "metadata": {},
   "source": [
    "### Graph Functions"
   ]
  },
  {
   "cell_type": "code",
   "execution_count": 11,
   "id": "aa5f3fbc-56fc-45cd-96be-d3ba5b17ec5e",
   "metadata": {},
   "outputs": [],
   "source": [
    "\n",
    "def accuracy_graph(accuracy_labels,accuracy_values, title=None):\n",
    "    fig,ax = plt.subplots()\n",
    "    #accuracy_labels = ['No Regularization', 'L1', 'L2']\n",
    "    #accuracy_values = [0.99, 0.8, 0.5]\n",
    "    bar_container = ax.bar(accuracy_labels, accuracy_values)\n",
    "    ax.bar_label(bar_container, fmt='{:,.9f}')\n",
    "    ax.set_ylabel('Accuracy')\n",
    "    ax.set_title(title)\n",
    "    ax.set_xlabel('Regression Type')\n",
    "    plt.show()\n",
    "\n",
    "def accuracy_graph2(accuracy_labels,accuracy_values,title):\n",
    "    fig,ax = plt.subplots()\n",
    "    #accuracy_labels = ['No Regularization', 'L1', 'L2']\n",
    "    #accuracy_values = [0.99, 0.8, 0.5]\n",
    "    bar_container = ax.bar(accuracy_labels, accuracy_values)\n",
    "    ax.bar_label(bar_container, fmt='{:,.4f}')\n",
    "    ax.set_ylabel('Accuracy')\n",
    "    ax.set_title(title)\n",
    "    ax.set_xlabel('C values')\n",
    "    plt.show()\n",
    "\n",
    "def weight_graph(labels, values, xliml, xlimr, title=None):\n",
    "    fig,ax = plt.subplots()\n",
    "    bar_container = ax.barh(labels, values)\n",
    "    ax.bar_label(bar_container, fmt='{:,.3f}')\n",
    "    ax.set_xlabel('Weights')\n",
    "    ax.set_title(title)\n",
    "    ax.set_ylabel('Features')\n",
    "    ax.set_xlim(left=xliml, right=xlimr)\n",
    "    plt.show()\n",
    "\n",
    "def plot_decision_regions(X, y, classifier, test_idx=None, resolution=0.02):\n",
    "    print('Plotting graph...')\n",
    "\n",
    "    # setup marker generator and color map\n",
    "    markers = ('s', 'x', 'o', '^', 'v')\n",
    "    colors = ['red', 'blue', 'lightgreen', 'gray', 'cyan']\n",
    "    cmap = ListedColormap(colors[:len(np.unique(y))])\n",
    "\n",
    "    # plot the decision surface\n",
    "    x1_min, x1_max = X[:, 0].min() - 1, X[:, 0].max() + 1\n",
    "    x2_min, x2_max = X[:, 1].min() - 1, X[:, 1].max() + 1\n",
    "    xx1, xx2 = np.meshgrid(np.arange(x1_min, x1_max, resolution),\n",
    "                           np.arange(x2_min, x2_max, resolution))\n",
    "    Z = classifier.predict(np.array([xx1.ravel(), xx2.ravel()]).T)\n",
    "    Z = Z.reshape(xx1.shape)\n",
    "    plt.contourf(xx1, xx2, Z, alpha=0.3, cmap=cmap)\n",
    "    plt.xlim(xx1.min(), xx1.max())\n",
    "    plt.ylim(xx2.min(), xx2.max())\n",
    "\n",
    "    for idx, cl in enumerate(np.unique(y)):\n",
    "        plt.scatter(x=X[y == cl, 0], \n",
    "                    y=X[y == cl, 1],\n",
    "                    alpha=0.8, \n",
    "                    color=colors[idx],\n",
    "                    marker=markers[idx], \n",
    "                    label=cl, \n",
    "                    edgecolor='black')\n",
    "\n",
    "    # highlight test examples\n",
    "    if test_idx:\n",
    "        # plot all examples\n",
    "        X_test, y_test = X[test_idx, :], y[test_idx]"
   ]
  },
  {
   "cell_type": "markdown",
   "id": "c012a258-7421-4b89-be35-90002b2c9683",
   "metadata": {},
   "source": [
    "### Prep Data for Graphing"
   ]
  },
  {
   "cell_type": "code",
   "execution_count": 12,
   "id": "463b46ca-93ea-478c-8b5a-aa1dcb278a00",
   "metadata": {},
   "outputs": [],
   "source": [
    "def find_weights(weights, features, title, xliml=--5, xlimr=5):\n",
    "    n_weight = [] #will store the absolute value of each value in weights\n",
    "    \n",
    "    for i in weights:\n",
    "        #taking each coef_[0] value and getting the absolute\n",
    "        #The abs val is then appended to n_weight\n",
    "        n_weight.append(abs(i))\n",
    "\n",
    "    #creating a DataFram to store values\n",
    "    data = pd.DataFrame({'Original weights': weights, 'Absolute Weights': n_weight, 'features':features})\n",
    "    \n",
    "    data = data.sort_values(by=['Absolute Weights'], ascending=False)\n",
    "    temp = data[:15]\n",
    "    weight_graph(temp['features'], temp['Original weights'], xliml, xlimr, title)\n",
    "    print(f'{temp}\\n\\n-----------------------------------------------------------\\n')"
   ]
  },
  {
   "cell_type": "markdown",
   "id": "6bc3b278-d8ec-4670-940a-09a5db0e4e12",
   "metadata": {},
   "source": [
    "### Feature Scaling"
   ]
  },
  {
   "cell_type": "code",
   "execution_count": 14,
   "id": "5dc604c5-1ddc-44a3-84a1-47d0e0b39a97",
   "metadata": {},
   "outputs": [],
   "source": [
    "def feature_scaling(X_train, X_test):\n",
    "    #Feature scaling for optimiztion: gradient descent implementation\n",
    "    sc = StandardScaler()\n",
    "    sc.fit(X_train)\n",
    "    X_train_std = sc.transform(X_train)\n",
    "    X_test_std = sc.transform(X_test)\n",
    "    return X_train_std, X_test_std"
   ]
  },
  {
   "cell_type": "markdown",
   "id": "af2a6212-3bd4-44e9-9870-07566fd6f39e",
   "metadata": {},
   "source": [
    "### SVC Model"
   ]
  },
  {
   "cell_type": "code",
   "execution_count": 15,
   "id": "55d5baa8-2117-4411-aced-48fa04fca236",
   "metadata": {},
   "outputs": [],
   "source": [
    "def SVC_Model(X_train, X_test, y_train, y_test, X_train_std, X_test_std, graph_type=0, kernel_type='linear'):\n",
    "    #svm = SGDClassifier(loss='hinge')\n",
    "\n",
    "    svm = SVC(\n",
    "            random_state=1,\n",
    "            max_iter= 1000,\n",
    "            kernel=kernel_type\n",
    "        )\n",
    "\n",
    "    svm.fit(X_train_std, y_train)\n",
    "    labels = []\n",
    "    accuracy = []\n",
    "    \n",
    "    #training accuracy\n",
    "    y_hat = svm.predict(X_train[:])\n",
    "    accuracy.append(accuracy_score(y_train[:], y_hat))\n",
    "    labels.append(\"Train\")\n",
    "    #coeff = sv.coef_[0]\n",
    "\n",
    "    #test accuracy\n",
    "    y_hat = svm.predict(X_test[:])\n",
    "    accuracy.append(accuracy_score(y_test[:], y_hat))\n",
    "    labels.append(\"Test\")\n",
    "\n",
    "    iterations = svm.n_iter_\n",
    "    print(f'iterations to Converge: {iterations}')\n",
    "    print(f'Difference in Accuracy: {accuracy[0] - accuracy[1]}')\n",
    "    #accuracy_graph(labels,accuracy)\n",
    "\n",
    "    if graph_type == 0:\n",
    "        return labels, accuracy\n",
    "    else:\n",
    "        return accuracy[0], accuracy[1]\n",
    "\n",
    "    #find_weights(coeff, X_train.columns, \"Non-Regularized Top 15 Weights\", xliml=-75, xlimr=75)\n",
    "    \n",
    "        "
   ]
  },
  {
   "cell_type": "markdown",
   "id": "5f3f235e-19e2-4ad6-99a9-9bd6505a8c3c",
   "metadata": {},
   "source": [
    "# Main Code"
   ]
  },
  {
   "cell_type": "markdown",
   "id": "dcbe0876-5663-4315-a8c2-d87b98388f24",
   "metadata": {},
   "source": [
    "## Differnet Undersampling aproaches"
   ]
  },
  {
   "cell_type": "markdown",
   "id": "d940fbf8-1e18-4d7e-9008-07d8dfc159ba",
   "metadata": {},
   "source": [
    "### Undersampling X Y Data Results"
   ]
  },
  {
   "cell_type": "code",
   "execution_count": 16,
   "id": "cbd6070f-9319-4147-a001-59f8cd68e74c",
   "metadata": {},
   "outputs": [],
   "source": [
    "def RUS_method_1():\n",
    "    \n",
    "    # Function to clean data\n",
    "    X, y = cleaning_data()\n",
    "    \n",
    "    # Random Under Sampling\n",
    "    sampling_string = 'majority'\n",
    "    rus = RandomUnderSampler(sampling_strategy=sampling_string, random_state=42)\n",
    "    X_resample, y_resample = rus.fit_resample(X, y)\n",
    "    \n",
    "    # Splitting data into 80% training and 20% test data:\n",
    "    X_train, X_test, y_train, y_test = train_test_split(X_resample, y_resample, test_size=0.2, random_state=42, stratify=y_resample)\n",
    "\n",
    "    #logistical_regression(X_resample, X_test, y_resample, y_test)\n",
    "    \n",
    "    X_train_std, X_test_std = feature_scaling(X_resample, X_test)\n",
    "    #logistical_regression(X_resample, X_test, y_resample, y_test, X_train_std, X_test_std)\n",
    "    return X_resample, X_test, y_resample, y_test, X_train_std, X_test_std"
   ]
  },
  {
   "cell_type": "code",
   "execution_count": 21,
   "id": "7052c68d-04f8-48eb-b495-64c077ce69e8",
   "metadata": {},
   "outputs": [
    {
     "name": "stderr",
     "output_type": "stream",
     "text": [
      "C:\\Users\\payge\\AppData\\Local\\Programs\\Python\\Python39\\lib\\site-packages\\sklearn\\base.py:457: UserWarning: X has feature names, but SVC was fitted without feature names\n",
      "  warnings.warn(\n",
      "C:\\Users\\payge\\AppData\\Local\\Programs\\Python\\Python39\\lib\\site-packages\\sklearn\\base.py:457: UserWarning: X has feature names, but SVC was fitted without feature names\n",
      "  warnings.warn(\n"
     ]
    },
    {
     "name": "stdout",
     "output_type": "stream",
     "text": [
      "iterations to Converge: [320]\n",
      "Difference in Accuracy: 0.0\n"
     ]
    },
    {
     "data": {
      "image/png": "[encoded data removed]",
      "text/plain": [
       "<Figure size 640x480 with 1 Axes>"
      ]
     },
     "metadata": {},
     "output_type": "display_data"
    }
   ],
   "source": [
    "X_train, X_test, y_train, y_test, X_train_std, X_test_std = RUS_method_1()\n",
    "labels,accuracy = SVC_Model(X_train, X_test, y_train, y_test, X_train_std, X_test_std, kernel_type='rbf')\n",
    "\n",
    "accuracy_graph(labels,accuracy)"
   ]
  },
  {
   "cell_type": "code",
   "execution_count": 5,
   "id": "9a53ce42-4929-4420-b92c-f63af5fb034b",
   "metadata": {},
   "outputs": [],
   "source": [
    "def RUS_method_2():\n",
    "\n",
    "    # Function to clean data\n",
    "    X, y = cleaning_data()\n",
    "    \n",
    "    # Random Under Sampling\n",
    "    sampling_string = 'majority'\n",
    "    rus = RandomUnderSampler(sampling_strategy=sampling_string, random_state=42)\n",
    "    \n",
    "    # Splitting data into 80% training and 20% test data:\n",
    "    X_train, X_test, y_train, y_test = train_test_split(X, y, test_size=0.2, random_state=42, stratify=y)\n",
    "    X_resample, y_resample = rus.fit_resample(X_train, y_train)\n",
    "    X_train_std, X_test_std = feature_scaling(X_resample, X_test)\n",
    "    \n",
    "    return X_resample, X_test, y_resample, y_test, X_train_std, X_test_std"
   ]
  },
  {
   "cell_type": "markdown",
   "id": "bbe2baa9-f012-4d37-bd7c-6ef81d57219f",
   "metadata": {},
   "source": [
    "#### SVC: 4 Kernal Example"
   ]
  },
  {
   "cell_type": "code",
   "execution_count": 23,
   "id": "6819d222-e2a9-4d08-9e13-0d74fb0d6b56",
   "metadata": {},
   "outputs": [
    {
     "name": "stderr",
     "output_type": "stream",
     "text": [
      "C:\\Users\\payge\\AppData\\Local\\Programs\\Python\\Python39\\lib\\site-packages\\sklearn\\base.py:457: UserWarning: X has feature names, but SVC was fitted without feature names\n",
      "  warnings.warn(\n",
      "C:\\Users\\payge\\AppData\\Local\\Programs\\Python\\Python39\\lib\\site-packages\\sklearn\\base.py:457: UserWarning: X has feature names, but SVC was fitted without feature names\n",
      "  warnings.warn(\n",
      "C:\\Users\\payge\\AppData\\Local\\Programs\\Python\\Python39\\lib\\site-packages\\sklearn\\base.py:457: UserWarning: X has feature names, but SVC was fitted without feature names\n",
      "  warnings.warn(\n",
      "C:\\Users\\payge\\AppData\\Local\\Programs\\Python\\Python39\\lib\\site-packages\\sklearn\\base.py:457: UserWarning: X has feature names, but SVC was fitted without feature names\n",
      "  warnings.warn(\n",
      "C:\\Users\\payge\\AppData\\Local\\Programs\\Python\\Python39\\lib\\site-packages\\sklearn\\base.py:457: UserWarning: X has feature names, but SVC was fitted without feature names\n",
      "  warnings.warn(\n"
     ]
    },
    {
     "name": "stdout",
     "output_type": "stream",
     "text": [
      "iterations to Converge: [320]\n",
      "Difference in Accuracy: 0.0\n",
      "iterations to Converge: [725]\n",
      "Difference in Accuracy: 0.0036896877956480445\n"
     ]
    },
    {
     "name": "stderr",
     "output_type": "stream",
     "text": [
      "C:\\Users\\payge\\AppData\\Local\\Programs\\Python\\Python39\\lib\\site-packages\\sklearn\\base.py:457: UserWarning: X has feature names, but SVC was fitted without feature names\n",
      "  warnings.warn(\n",
      "C:\\Users\\payge\\AppData\\Local\\Programs\\Python\\Python39\\lib\\site-packages\\sklearn\\base.py:457: UserWarning: X has feature names, but SVC was fitted without feature names\n",
      "  warnings.warn(\n"
     ]
    },
    {
     "name": "stdout",
     "output_type": "stream",
     "text": [
      "iterations to Converge: [405]\n",
      "Difference in Accuracy: 0.0036896877956480445\n",
      "iterations to Converge: [447]\n",
      "Difference in Accuracy: 0.0028382213812677692\n"
     ]
    },
    {
     "name": "stderr",
     "output_type": "stream",
     "text": [
      "C:\\Users\\payge\\AppData\\Local\\Programs\\Python\\Python39\\lib\\site-packages\\sklearn\\base.py:457: UserWarning: X has feature names, but SVC was fitted without feature names\n",
      "  warnings.warn(\n"
     ]
    },
    {
     "data": {
      "image/png": "[encoded data removed]",
      "text/plain": [
       "<Figure size 640x480 with 1 Axes>"
      ]
     },
     "metadata": {},
     "output_type": "display_data"
    },
    {
     "data": {
      "image/png": "[encoded data removed]",
      "text/plain": [
       "<Figure size 640x480 with 1 Axes>"
      ]
     },
     "metadata": {},
     "output_type": "display_data"
    }
   ],
   "source": [
    "X_train, X_test, y_train, y_test, X_train_std, X_test_std = RUS_method_1()\n",
    "labels = []\n",
    "training = []\n",
    "testing = []\n",
    "\n",
    "temp = SVC_Model(X_train, X_test, y_train, y_test, X_train_std, X_test_std, 1, kernel_type='rbf')\n",
    "labels.append('rbf')\n",
    "training.append(temp[0])\n",
    "testing.append (temp[1])\n",
    "\n",
    "temp = SVC_Model(X_train, X_test, y_train, y_test, X_train_std, X_test_std, 1,  kernel_type='linear')\n",
    "labels.append('linear')\n",
    "training.append(temp[0])\n",
    "testing.append (temp[1])\n",
    "\n",
    "temp = SVC_Model(X_train, X_test, y_train, y_test, X_train_std, X_test_std, 1, kernel_type='poly')\n",
    "labels.append('poly')\n",
    "training.append(temp[0])\n",
    "testing.append (temp[1])\n",
    "\n",
    "temp = SVC_Model(X_train, X_test, y_train, y_test, X_train_std, X_test_std, 1, kernel_type='sigmoid')\n",
    "labels.append('sigmoid')\n",
    "training.append(temp[0])\n",
    "testing.append (temp[1])\n",
    "#Models.append(SVC_Model(X_train, X_test, y_train, y_test, X_train_std, X_test_std, kernel_type='precomputed'))\n",
    "\n",
    "accuracy_graph(labels,training, \"Training Comparison\")\n",
    "accuracy_graph(labels,testing, \"Testing Comparison\")\n",
    "\n",
    "# TO DO!!!! Print out all the weights for each graphy type. (just the list)\n",
    "# Need coeff!\n",
    "\n",
    "#accuracy.append(accuracy1[1]-accuracy1[0])\n",
    "#accuracy.append(accuracy2[1]-accuracy2[0])\n",
    "\n",
    "#labels = [\"L1\", \"L2\"]\n",
    "#accuracy_graph(labels,accuracy, \"L1/L2 Comparison\")\n",
    "\n",
    "#find_weights(coeff1, X_train.columns,\"L1 Top 15 Weights\", -10, 10)\n",
    "#find_weights(coeff2, X_train.columns,\"L2 Top 15 Weights\", -10, 10)\n"
   ]
  },
  {
   "cell_type": "markdown",
   "id": "5322d54e-1925-464b-894f-6b478146ed72",
   "metadata": {
    "jp-MarkdownHeadingCollapsed": true
   },
   "source": [
    "#### SVC\n"
   ]
  },
  {
   "cell_type": "markdown",
   "id": "4394f2d4-14d8-43d7-855f-5d2a1686975a",
   "metadata": {},
   "source": [
    "**Current Configuration** default\n",
    "\n",
    "**Iterations to converge:** \n",
    "\n",
    "There was approximately a ... difference between training and test pediction accuracys.\n",
    "- **Training Accuracy:** \n",
    "- **Test Accuracy:** \n",
    "\n",
    "\n",
    "**Weight Results**\n"
   ]
  },
  {
   "cell_type": "markdown",
   "id": "9df2563d-15af-457b-bc5b-aff71b70f704",
   "metadata": {},
   "source": [
    "**Current Configuration**"
   ]
  },
  {
   "cell_type": "code",
   "execution_count": 3,
   "id": "ffa676e4-6b29-49a6-8f2a-e1038ca248dc",
   "metadata": {},
   "outputs": [
    {
     "ename": "NameError",
     "evalue": "name 'RUS_method_1' is not defined",
     "output_type": "error",
     "traceback": [
      "\u001b[1;31m---------------------------------------------------------------------------\u001b[0m",
      "\u001b[1;31mNameError\u001b[0m                                 Traceback (most recent call last)",
      "Cell \u001b[1;32mIn[3], line 1\u001b[0m\n\u001b[1;32m----> 1\u001b[0m X_train, X_test, y_train, y_test, X_train_std, X_test_std \u001b[38;5;241m=\u001b[39m \u001b[43mRUS_method_1\u001b[49m()\n\u001b[0;32m      2\u001b[0m labels,accuracy \u001b[38;5;241m=\u001b[39m SVC_Model(X_train, X_test, y_train, y_test, X_train_std, X_test_std, kernel_type\u001b[38;5;241m=\u001b[39m\u001b[38;5;124m'\u001b[39m\u001b[38;5;124mrbf\u001b[39m\u001b[38;5;124m'\u001b[39m)\n\u001b[0;32m      4\u001b[0m accuracy_graph(labels,accuracy)\n",
      "\u001b[1;31mNameError\u001b[0m: name 'RUS_method_1' is not defined"
     ]
    }
   ],
   "source": [
    "X_train, X_test, y_train, y_test, X_train_std, X_test_std = RUS_method_1()\n",
    "labels,accuracy = SVC_Model(X_train, X_test, y_train, y_test, X_train_std, X_test_std, kernel_type='rbf')\n",
    "\n",
    "accuracy_graph(labels,accuracy)"
   ]
  },
  {
   "cell_type": "code",
   "execution_count": null,
   "id": "22eddc1f-7364-4463-acf0-797cb5cc786d",
   "metadata": {},
   "outputs": [
    {
     "name": "stdout",
     "output_type": "stream",
     "text": [
      "iterations to Converge: [354]\n",
      "Difference in Accuracy: -0.0002838221381267214\n",
      "iterations to Converge: [1000]\n",
      "Difference in Accuracy: -0.003500473036896823\n"
     ]
    },
    {
     "name": "stderr",
     "output_type": "stream",
     "text": [
      "C:\\Users\\payge\\AppData\\Local\\Programs\\Python\\Python39\\lib\\site-packages\\sklearn\\svm\\_base.py:297: ConvergenceWarning: Solver terminated early (max_iter=1000).  Consider pre-processing your data with StandardScaler or MinMaxScaler.\n",
      "  warnings.warn(\n"
     ]
    },
    {
     "name": "stdout",
     "output_type": "stream",
     "text": [
      "iterations to Converge: [422]\n",
      "Difference in Accuracy: 0.0006622516556291647\n"
     ]
    },
    {
     "name": "stderr",
     "output_type": "stream",
     "text": [
      "C:\\Users\\payge\\AppData\\Local\\Programs\\Python\\Python39\\lib\\site-packages\\sklearn\\svm\\_base.py:297: ConvergenceWarning: Solver terminated early (max_iter=1000).  Consider pre-processing your data with StandardScaler or MinMaxScaler.\n",
      "  warnings.warn(\n"
     ]
    },
    {
     "name": "stdout",
     "output_type": "stream",
     "text": [
      "iterations to Converge: [1000]\n",
      "Difference in Accuracy: 0.0008514664143803308\n",
      "['rbf', 'linear', 'poly', 'sigmoid']\n",
      "[0.9973509933774835, 0.8687795648060549, 0.9968779564806055, 0.3584673604541154]\n",
      "[0.9976348155156102, 0.8722800378429517, 0.9962157048249763, 0.3576158940397351]\n"
     ]
    },
    {
     "data": {
      "image/png": "[encoded data removed]",
      "text/plain": [
       "<Figure size 640x480 with 1 Axes>"
      ]
     },
     "metadata": {},
     "output_type": "display_data"
    },
    {
     "data": {
      "image/png": "[encoded data removed]",
      "text/plain": [
       "<Figure size 640x480 with 1 Axes>"
      ]
     },
     "metadata": {},
     "output_type": "display_data"
    },
    {
     "data": {
      "text/plain": [
       "'\\naccuracy.append(accuracy1[1]-accuracy1[0])\\naccuracy.append(accuracy2[1]-accuracy2[0])\\n\\nlabels = [\"L1\", \"L2\"]\\naccuracy_graph(labels,accuracy, \"L1/L2 Comparison\")\\n\\nfind_weights(coeff1, X_train.columns,\"L1 Top 15 Weights\", -10, 10)\\nfind_weights(coeff2, X_train.columns,\"L2 Top 15 Weights\", -10, 10)\\n'"
      ]
     },
     "execution_count": 73,
     "metadata": {},
     "output_type": "execute_result"
    }
   ],
   "source": [
    "X_train, X_test, y_train, y_test, X_train_std, X_test_std = RUS_method_1()\n",
    "labels = []\n",
    "training = []\n",
    "testing = []\n",
    "\n",
    "temp = SVC_Model(X_train, X_test, y_train, y_test, X_train_std, X_test_std, 1, kernel_type='rbf')\n",
    "labels.append('rbf')\n",
    "training.append(temp[0])\n",
    "testing.append (temp[1])\n",
    "\n",
    "temp = SVC_Model(X_train, X_test, y_train, y_test, X_train_std, X_test_std, 1,  kernel_type='linear')\n",
    "labels.append('linear')\n",
    "training.append(temp[0])\n",
    "testing.append (temp[1])\n",
    "\n",
    "temp = SVC_Model(X_train, X_test, y_train, y_test, X_train_std, X_test_std, 1, kernel_type='poly')\n",
    "labels.append('poly')\n",
    "training.append(temp[0])\n",
    "testing.append (temp[1])\n",
    "\n",
    "temp = SVC_Model(X_train, X_test, y_train, y_test, X_train_std, X_test_std, 1, kernel_type='sigmoid')\n",
    "labels.append('sigmoid')\n",
    "training.append(temp[0])\n",
    "testing.append (temp[1])\n",
    "#Models.append(SVC_Model(X_train, X_test, y_train, y_test, X_train_std, X_test_std, kernel_type='precomputed'))\n",
    "\n",
    "accuracy_graph(labels,training, \"Training Comparison\")\n",
    "accuracy_graph(labels,testing, \"Testing Comparison\")\n",
    "\n",
    "# TO DO!!!! Print out all the weights for each graphy type. (just the list)\n",
    "# Need coeff!\n",
    "'''\n",
    "accuracy.append(accuracy1[1]-accuracy1[0])\n",
    "accuracy.append(accuracy2[1]-accuracy2[0])\n",
    "\n",
    "labels = [\"L1\", \"L2\"]\n",
    "accuracy_graph(labels,accuracy, \"L1/L2 Comparison\")\n",
    "\n",
    "find_weights(coeff1, X_train.columns,\"L1 Top 15 Weights\", -10, 10)\n",
    "find_weights(coeff2, X_train.columns,\"L2 Top 15 Weights\", -10, 10)\n",
    "'''"
   ]
  },
  {
   "cell_type": "markdown",
   "id": "ae085efc-6c93-431f-92bd-cd4583117ec1",
   "metadata": {},
   "source": [
    "## Comparing L2 Regularization Strengths an L2"
   ]
  },
  {
   "cell_type": "markdown",
   "id": "af5742e4-b073-4a2b-8b7c-daf2f9dafd8f",
   "metadata": {},
   "source": [
    "**Current Configuration**\n",
    "1. Random Undersampling on with the \"majority\" attribute for X and y\n",
    "2. liblinear Solver\n",
    "3. C value ranges from 0.001 to 100\n",
    "\n",
    "**Training Results**\n",
    "As the value of C increased from 0.001 to 1, the accuracy of the model gradually increased from 0.6629 to 0.7729. The accuracy of the model began to gradually decrease once C > 1. This is because L2 heavily relies on weights. As we increase the value of C, it has more of an impact on our results (for better and for worse).\n",
    "\n",
    "**Testing Results**\n",
    "As the value of C increased from 0.001 to 1, the accuracy of the model gradually increased from ~0.6592 to 0.797. The accuracy of the model began to gradually decrease once C > 1. This is because L2 heavily relies on weights. As we increase the value of C, it has more of an impact on our results (for better and for worse)."
   ]
  },
  {
   "cell_type": "code",
   "execution_count": null,
   "id": "cb1e4305-261a-468b-ba12-9d1767d557fb",
   "metadata": {},
   "outputs": [],
   "source": [
    "X_train, X_test, y_train, y_test, X_train_std, X_test_std = RUS_method_1()\n",
    "\n",
    "\n",
    "c = [0.001, 0.01, 0.1, 1.0, 10, 100] \n",
    "L2_data = [] # training values\n",
    "L2_data1 = [] # test values\n",
    "L2_labels = []\n",
    "for i in c:\n",
    "    labels = []\n",
    "    accuracy = []\n",
    "    c_val = i\n",
    "    labels = f\"{c_val}\"\n",
    "\n",
    "    accuracy2, labels2, coeff2 = logr2(X_train, X_test, y_train, y_test, X_train_std, X_test_std, c_val, solver_type='liblinear')\n",
    "    L2_data.append(accuracy2[0])\n",
    "    L2_data1.append(accuracy2[1])\n",
    "    L2_labels.append(labels)\n",
    "\n",
    "accuracy_graph2(L2_labels, L2_data, 'L2 Comparison Training')\n",
    "accuracy_graph2(L2_labels, L2_data1, 'L2 Comparison Test')"
   ]
  },
  {
   "cell_type": "markdown",
   "id": "2cf92298-95bf-4cfb-8b72-359cd2f2bb24",
   "metadata": {},
   "source": [
    "**Current Configuration**\n",
    "1. Random Undersampling on with the \"majority\" attribute for X and y\n",
    "2. liblinear Solver\n",
    "3. C value default: 1\n",
    "\n",
    "In this scenario, L1 performed better than L2"
   ]
  },
  {
   "cell_type": "code",
   "execution_count": null,
   "id": "d95fd34b-e663-44d5-a253-5bc8b0f594c1",
   "metadata": {},
   "outputs": [],
   "source": [
    "X_train, X_test, y_train, y_test, X_train_std, X_test_std = RUS_method_2()\n",
    "accuracy1, labels1, coeff1 = logr1(X_train, X_test, y_train, y_test, X_train_std, X_test_std, solver_type='liblinear')\n",
    "accuracy2, labels2, coeff2 = logr2(X_train, X_test, y_train, y_test, X_train_std, X_test_std, solver_type='liblinear')\n",
    "\n",
    "accuracy = accuracy1 + accuracy2\n",
    "labels = labels1 + labels2\n",
    "accuracy_graph(labels,accuracy, \"L1/L2 Comparison\")\n",
    "\n",
    "find_weights(coeff1, X_train.columns,\"L1 Top 15 Weights\", -7, 7)\n",
    "find_weights(coeff2, X_train.columns,\"L2 Top 15 Weights\", -7, 7)"
   ]
  },
  {
   "cell_type": "markdown",
   "id": "dac9fdbf-c93d-4b0a-949c-8e8ad4669dc5",
   "metadata": {},
   "source": [
    "###### **Current Configuration**\n",
    "1. Random Undersampling on with the \"majority\" attribute for X and y\n",
    "2. liblinear Solver\n",
    "3. C value ranges from 0.001 to 100\n",
    "\n",
    "**Training Results**\n",
    "As the value of C increased from 0.001 to 0.1, the accuracy of the model gradually increased from ~0.6604 to 0.7479. The accuracy of the model began to gradually decrease once C > 0.1. This is because L2 heavily relies on weights. As we increase the value of C, it has more of an impact on our results (for better and for worse).\n",
    "\n",
    "**Testing Results**\n",
    "The test results stayed aroun 0.99 with slight variations"
   ]
  },
  {
   "cell_type": "code",
   "execution_count": null,
   "id": "2d30424b-d65f-4ae6-a7db-5491a869a190",
   "metadata": {},
   "outputs": [],
   "source": [
    "X_train, X_test, y_train, y_test, X_train_std, X_test_std = RUS_method_2()\n",
    "\n",
    "\n",
    "c = [0.001, 0.01, 0.1, 1.0, 10, 100] \n",
    "L2_data = [] # training values\n",
    "L2_data1 = [] # test values\n",
    "L2_labels = []\n",
    "for i in c:\n",
    "    labels = []\n",
    "    accuracy = []\n",
    "    c_val = i\n",
    "    labels = f\"{c_val}\"\n",
    "\n",
    "    accuracy2, labels2, coeff2 = logr2(X_train, X_test, y_train, y_test, X_train_std, X_test_std, c_val, solver_type='liblinear')\n",
    "    L2_data.append(accuracy2[0])\n",
    "    L2_data1.append(accuracy2[1])\n",
    "    L2_labels.append(labels)\n",
    "\n",
    "accuracy_graph2(L2_labels, L2_data, 'L2 Comparison Training')\n",
    "accuracy_graph2(L2_labels, L2_data1, 'L2 Comparison Test')"
   ]
  },
  {
   "cell_type": "code",
   "execution_count": null,
   "id": "e5999165-3ce6-4ffd-89cf-00b8843a5d75",
   "metadata": {},
   "outputs": [],
   "source": []
  }
 ],
 "metadata": {
  "kernelspec": {
   "display_name": "Python 3 (ipykernel)",
   "language": "python",
   "name": "python3"
  },
  "language_info": {
   "codemirror_mode": {
    "name": "ipython",
    "version": 3
   },
   "file_extension": ".py",
   "mimetype": "text/x-python",
   "name": "python",
   "nbconvert_exporter": "python",
   "pygments_lexer": "ipython3",
   "version": "3.9.5"
  }
 },
 "nbformat": 4,
 "nbformat_minor": 5
}
