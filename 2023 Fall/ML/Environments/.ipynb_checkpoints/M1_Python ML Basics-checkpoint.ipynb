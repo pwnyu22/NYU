{
 "cells": [
  {
   "cell_type": "markdown",
   "metadata": {},
   "source": [
    " # Introduction to Scikit-Learn, Pandas and Numpy"
   ]
  },
  {
   "cell_type": "markdown",
   "metadata": {},
   "source": [
    "## Scikit-Learn"
   ]
  },
  {
   "cell_type": "markdown",
   "metadata": {},
   "source": [
    "Scikit-Learn, also known as sklearn, is Python's go to and general-purpose machine learning library. Scikit-Learn offers a high-level interface for many tasks which allows you to better practice the entire machine learning workflow and understand the big picture.\n",
    "\n",
    "Scikit-learn provides a range of supervised and unsupervised learning algorithms via a consistent interface in Python.\n",
    "The library is built upon the SciPy (Scientific Python) that must be installed before you can use scikit-learn. This stack includes:\n",
    "\n",
    "1. NumPy: Base n-dimensional array package\n",
    "2. SciPy: Fundamental library for scientific computing\n",
    "3. Matplotlib: Comprehensive 2D/3D plotting\n",
    "4. IPython: Enhanced interactive console\n",
    "5. Sympy: Symbolic mathematics\n",
    "6. Pandas: Data structures and analysis\n"
   ]
  },
  {
   "cell_type": "markdown",
   "metadata": {},
   "source": [
    "### What are the features?\n",
    "The library is focused on modeling data. It is not focused on loading, manipulating and summarizing data. For these features we use NumPy and Pandas. Some popular groups of models provided by scikit-learn include:\n",
    "\n",
    "* Clustering: for grouping unlabeled data such as KMeans.\n",
    "* Cross Validation: for estimating the performance of supervised models on unseen data.\n",
    "* Datasets: for test datasets and for generating datasets with specific properties for investigating model behavior.\n",
    "* Dimensionality Reduction: for reducing the number of attributes in data for summarization, visualization and feature selection such as Principal component analysis.\n",
    "* Ensemble methods: for combining the predictions of multiple supervised models.\n",
    "* Feature extraction: for defining attributes in image and text data.\n",
    "* Feature selection: for identifying meaningful attributes from which to create supervised models.\n",
    "* Parameter Tuning: for getting the most out of supervised models.\n",
    "* Supervised Models: a vast array not limited to generalized linear models, discriminate analysis, naive bayes, lazy methods, neural networks, support vector machines and decision trees.\n"
   ]
  },
  {
   "cell_type": "markdown",
   "metadata": {},
   "source": [
    "### Documentation\n",
    "Here are some of the resorces that will help you get on baord quickly with scikit learn.\n",
    "\n",
    "1. Quick Start Tutorial http://scikit-learn.org/stable/tutorial/basic/tutorial.html\n",
    "2. User Guide http://scikit-learn.org/stable/user_guide.html\n",
    "3. API Reference http://scikit-learn.org/stable/modules/classes.html\n",
    "4. Example Gallery http://scikit-learn.org/stable/auto_examples/index.html"
   ]
  },
  {
   "cell_type": "markdown",
   "metadata": {},
   "source": [
    "## Examples"
   ]
  },
  {
   "cell_type": "markdown",
   "metadata": {},
   "source": [
    "Let's see how to use scikit learn for a classification prpblem. Below is an example of using a Classification and Regression Trees (CART) decision tree classifier\n",
    "to model the Iris flower dataset.\n",
    "\n"
   ]
  },
  {
   "cell_type": "code",
   "execution_count": 35,
   "metadata": {},
   "outputs": [
    {
     "name": "stdout",
     "output_type": "stream",
     "text": [
      "DecisionTreeClassifier(class_weight=None, criterion='gini', max_depth=None,\n",
      "            max_features=None, max_leaf_nodes=None,\n",
      "            min_impurity_decrease=0.0, min_impurity_split=None,\n",
      "            min_samples_leaf=1, min_samples_split=2,\n",
      "            min_weight_fraction_leaf=0.0, presort=False, random_state=None,\n",
      "            splitter='best')\n",
      "              precision    recall  f1-score   support\n",
      "\n",
      "           0       1.00      1.00      1.00        50\n",
      "           1       1.00      1.00      1.00        50\n",
      "           2       1.00      1.00      1.00        50\n",
      "\n",
      "   micro avg       1.00      1.00      1.00       150\n",
      "   macro avg       1.00      1.00      1.00       150\n",
      "weighted avg       1.00      1.00      1.00       150\n",
      "\n",
      "[[50  0  0]\n",
      " [ 0 50  0]\n",
      " [ 0  0 50]]\n"
     ]
    }
   ],
   "source": [
    "from sklearn import datasets\n",
    "from sklearn import metrics\n",
    "from sklearn.tree import DecisionTreeClassifier\n",
    "# load the iris datasets\n",
    "dataset = datasets.load_iris()\n",
    "# fit a CART model to the data\n",
    "model = DecisionTreeClassifier()\n",
    "model.fit(dataset.data, dataset.target)\n",
    "print(model)\n",
    "# make predictions\n",
    "expected = dataset.target\n",
    "predicted = model.predict(dataset.data)\n",
    "# summarize the fit of the model\n",
    "print(metrics.classification_report(expected, predicted))\n",
    "print(metrics.confusion_matrix(expected, predicted))"
   ]
  },
  {
   "cell_type": "markdown",
   "metadata": {},
   "source": [
    "# Pandas"
   ]
  },
  {
   "cell_type": "markdown",
   "metadata": {},
   "source": [
    "## Introduction"
   ]
  },
  {
   "cell_type": "markdown",
   "metadata": {},
   "source": [
    "Pandas is derived from the term \"panel data\", an econometrics term for data sets that include observations over multiple time periods for the same individuals. The pandas package is the most important tool for data analysis in Python  and essentially your data’s home. Through pandas, one can easily clean, transform and aggregate a given dataset.\n",
    "\n",
    "Pandas allows you to extract the data from a CSV stored on your computer into a DataFrame — a table, basically and  then let you do things like:\n",
    "\n",
    "* Calculate statistics and answer questions about the data, like \"What's the average, median, max, or min of each column?\", \"Does column A correlate with column B?\"\n",
    "* Clean the data by doing operations like removing missing values and filtering rows or columns based on some criteria\n",
    "* Visualize the data with help from Matplotlib. Plot scatter, bars, lines, histograms, bubble charts, etc.\n",
    "* Store the cleaned, transformed data back into a CSV, other file or database"
   ]
  },
  {
   "cell_type": "markdown",
   "metadata": {},
   "source": [
    "## Installation"
   ]
  },
  {
   "cell_type": "markdown",
   "metadata": {},
   "source": [
    "Pandas is an easy package to install. Open up your terminal program (for Mac users) or command line (for PC users) and install it using either of the following commands:\n",
    "\n",
    "**conda install pandas**\n",
    "\n",
    "OR\n",
    "\n",
    "**pip install pandas**\n",
    "\n",
    "Alternatively, you can install pandas in a Jupyter notebook like this:\n",
    "\n",
    "**!pip install pandas**\n",
    "\n",
    "The **!** at the beginning runs cells as if they were in a terminal."
   ]
  },
  {
   "cell_type": "markdown",
   "metadata": {},
   "source": [
    "## Examples"
   ]
  },
  {
   "cell_type": "code",
   "execution_count": 19,
   "metadata": {},
   "outputs": [
    {
     "name": "stdout",
     "output_type": "stream",
     "text": [
      "    name  age favorite_color  grade\n",
      "0  James   20            red     67\n",
      "1   Ryan   19         orange     78\n",
      "2   Jane   22          green     90\n",
      "3   Mary   21         purple     12\n",
      "Index(['name', 'age', 'favorite_color', 'grade'], dtype='object')\n"
     ]
    }
   ],
   "source": [
    "#Imports\n",
    "import pandas as pd\n",
    "import numpy as np\n",
    "\n",
    "data = {\n",
    " 'name': ['James','Ryan', 'Jane','Mary'],\n",
    " 'age': [20, 19, 22, 21],\n",
    " 'favorite_color': ['red', 'orange', 'green', 'purple'],\n",
    " 'grade': [67, 78, 90, 12]}\n",
    "\n",
    "# Reading data from a JSON into a dataframe\n",
    "df = pd.DataFrame(data)\n",
    "print(df)"
   ]
  },
  {
   "cell_type": "code",
   "execution_count": 21,
   "metadata": {},
   "outputs": [
    {
     "data": {
      "text/plain": [
       "Index(['name', 'age', 'favorite_color', 'grade'], dtype='object')"
      ]
     },
     "execution_count": 21,
     "metadata": {},
     "output_type": "execute_result"
    }
   ],
   "source": [
    "#printing the features/columns of a dataframe\n",
    "df.columns"
   ]
  },
  {
   "cell_type": "code",
   "execution_count": 25,
   "metadata": {},
   "outputs": [
    {
     "name": "stdout",
     "output_type": "stream",
     "text": [
      "No of Samples: 4\n",
      "No of features: 4\n"
     ]
    }
   ],
   "source": [
    "# To see the size of the dataset\n",
    "print(\"No of Samples:\", df.shape[0])\n",
    "print(\"No of features:\", df.shape[1])"
   ]
  },
  {
   "cell_type": "code",
   "execution_count": 26,
   "metadata": {},
   "outputs": [
    {
     "data": {
      "text/plain": [
       "name              object\n",
       "age                int64\n",
       "favorite_color    object\n",
       "grade              int64\n",
       "dtype: object"
      ]
     },
     "execution_count": 26,
     "metadata": {},
     "output_type": "execute_result"
    }
   ],
   "source": [
    "# To see the datatypes\n",
    "df.dtypes"
   ]
  },
  {
   "cell_type": "markdown",
   "metadata": {},
   "source": [
    "## Documetation"
   ]
  },
  {
   "cell_type": "markdown",
   "metadata": {},
   "source": [
    "Here is the link for the official panda documentation\n",
    "http://pandas.pydata.org/pandas-docs/stable/\n",
    "\n",
    "Some links to get you started on pandas:\n",
    "\n",
    "* https://pandas.pydata.org/pandas-docs/stable/getting_started/10min.html\n",
    "* https://medium.com/@wbusaka/a-gentle-introduction-to-pandas-5ed17421a59d"
   ]
  },
  {
   "cell_type": "markdown",
   "metadata": {},
   "source": [
    "# Numpy"
   ]
  },
  {
   "cell_type": "markdown",
   "metadata": {},
   "source": [
    "## Introduction\n",
    "\n",
    "NumPy is a general-purpose array-processing package. It provides a high-performance multidimensional array object, and tools for working with these arrays.It contains various features including these important ones:\n",
    "\n",
    "* A powerful N-dimensional array object\n",
    "* Sophisticated (broadcasting) functions\n",
    "* Useful linear algebra, Fourier transform, and random number capabilities\n",
    "\n",
    "Besides its obvious scientific uses, NumPy can also be used as an efficient multi-dimensional container of generic data. Arbitrary data-types can be defined using Numpy which allows NumPy to seamlessly and speedily integrate with a wide variety of databases."
   ]
  },
  {
   "cell_type": "markdown",
   "metadata": {},
   "source": [
    "## Installation\n",
    "Mac and Linux users can install NumPy via pip command:\n",
    "\n",
    "**pip install numpy**"
   ]
  },
  {
   "cell_type": "markdown",
   "metadata": {},
   "source": [
    "## Documentation\n",
    "Here are some links that will give you a good hands on learning on numpy\n",
    "\n",
    "* http://www.numpy.org/\n",
    "* http://cs231n.github.io/python-numpy-tutorial/\n",
    "* https://jakevdp.github.io/PythonDataScienceHandbook/02.02-the-basics-of-numpy-arrays.html"
   ]
  },
  {
   "cell_type": "markdown",
   "metadata": {},
   "source": [
    "## Examples"
   ]
  },
  {
   "cell_type": "code",
   "execution_count": 36,
   "metadata": {},
   "outputs": [
    {
     "name": "stdout",
     "output_type": "stream",
     "text": [
      "Array is of type:  <class 'numpy.ndarray'>\n",
      "No. of dimensions:  2\n",
      "Shape of array:  (2, 3)\n",
      "Size of array:  6\n",
      "Array stores elements of type:  int64\n"
     ]
    }
   ],
   "source": [
    "# Python program to demonstrate basic numpy array characteristics \n",
    "import numpy as np \n",
    "  \n",
    "# Creating array object \n",
    "arr = np.array( [[ 1, 2, 3], \n",
    "                 [ 4, 2, 5]] ) \n",
    "  \n",
    "# Printing type of arr object \n",
    "print(\"Array is of type: \", type(arr)) \n",
    "  \n",
    "# Printing array dimensions (axes) \n",
    "print(\"No. of dimensions: \", arr.ndim) \n",
    "  \n",
    "# Printing shape of array \n",
    "print(\"Shape of array: \", arr.shape) \n",
    "  \n",
    "# Printing size (total number of elements) of array \n",
    "print(\"Size of array: \", arr.size) \n",
    "  \n",
    "# Printing type of elements in array \n",
    "print(\"Array stores elements of type: \", arr.dtype) \n"
   ]
  },
  {
   "cell_type": "code",
   "execution_count": 37,
   "metadata": {},
   "outputs": [
    {
     "name": "stdout",
     "output_type": "stream",
     "text": [
      "\n",
      "A sequential array with steps of 5:\n",
      " [ 0  5 10 15 20 25]\n",
      "\n",
      "A sequential array with 10 values between0 and 5:\n",
      " [0.         0.55555556 1.11111111 1.66666667 2.22222222 2.77777778\n",
      " 3.33333333 3.88888889 4.44444444 5.        ]\n",
      "[[1 2 3]\n",
      " [4 5 6]\n",
      " [7 8 9]]\n"
     ]
    }
   ],
   "source": [
    "# Create a sequence of integers  \n",
    "# from 0 to 30 with steps of 5 \n",
    "f = np.arange(0, 30, 5) \n",
    "print (\"\\nA sequential array with steps of 5:\\n\", f) \n",
    "  \n",
    "# Create a sequence of 10 values in range 0 to 5 \n",
    "g = np.linspace(0, 5, 10) \n",
    "print (\"\\nA sequential array with 10 values between\"\"0 and 5:\\n\", g) \n",
    "\n",
    "#Reshaping of arrays\n",
    "grid = np.arange(1, 10).reshape((3, 3))\n",
    "print(grid)"
   ]
  },
  {
   "cell_type": "code",
   "execution_count": 38,
   "metadata": {},
   "outputs": [
    {
     "name": "stdout",
     "output_type": "stream",
     "text": [
      "Array with first 2 rows and alternatecolumns(0 and 2):\n",
      " [[-1.  0.]\n",
      " [ 4.  6.]]\n",
      "\n",
      "Elements at indices (0, 3), (1, 2), (2, 1),(3, 0):\n",
      " [4. 6. 0. 3.]\n",
      "\n",
      "Elements greater than 0:\n",
      " [2.  4.  4.  6.  2.6 7.  8.  3.  4.  2. ]\n"
     ]
    }
   ],
   "source": [
    "# Python program to demonstrate \n",
    "# indexing in numpy \n",
    "import numpy as np \n",
    "  \n",
    "# An exemplar array \n",
    "arr = np.array([[-1, 2, 0, 4], \n",
    "                [4, -0.5, 6, 0], \n",
    "                [2.6, 0, 7, 8], \n",
    "                [3, -7, 4, 2.0]]) \n",
    "  \n",
    "# Slicing array \n",
    "temp = arr[:2, ::2] \n",
    "print (\"Array with first 2 rows and alternate\"\n",
    "                    \"columns(0 and 2):\\n\", temp) \n",
    "  \n",
    "# Integer array indexing example \n",
    "temp = arr[[0, 1, 2, 3], [3, 2, 1, 0]] \n",
    "print (\"\\nElements at indices (0, 3), (1, 2), (2, 1),\"\n",
    "                                    \"(3, 0):\\n\", temp) \n",
    "  \n",
    "# boolean array indexing example \n",
    "cond = arr > 0 # cond is a boolean array \n",
    "temp = arr[cond] \n",
    "print (\"\\nElements greater than 0:\\n\", temp) "
   ]
  },
  {
   "cell_type": "markdown",
   "metadata": {},
   "source": [
    "# Note:"
   ]
  },
  {
   "cell_type": "markdown",
   "metadata": {},
   "source": [
    "This is just an introduction. Go through the tutorial links mentioned under each section to practice and get familiar with more functionality."
   ]
  },
  {
   "cell_type": "code",
   "execution_count": null,
   "metadata": {},
   "outputs": [],
   "source": []
  }
 ],
 "metadata": {
  "kernelspec": {
   "display_name": "Python 3",
   "language": "python",
   "name": "python3"
  },
  "language_info": {
   "codemirror_mode": {
    "name": "ipython",
    "version": 3
   },
   "file_extension": ".py",
   "mimetype": "text/x-python",
   "name": "python",
   "nbconvert_exporter": "python",
   "pygments_lexer": "ipython3",
   "version": "3.6.4"
  }
 },
 "nbformat": 4,
 "nbformat_minor": 2
}
